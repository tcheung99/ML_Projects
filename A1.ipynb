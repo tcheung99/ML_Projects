{
 "cells": [
  {
   "cell_type": "code",
   "execution_count": 40,
   "metadata": {},
   "outputs": [],
   "source": [
    "import numpy as np \n",
    "import matplotlib.pyplot as plt\n",
    "import time\n",
    "from data_utils import load_dataset\n",
    "from sklearn import neighbors"
   ]
  },
  {
   "cell_type": "code",
   "execution_count": 6,
   "metadata": {},
   "outputs": [],
   "source": [
    "def l2_dist(x_train, test_point):\n",
    "    l2 = np.sqrt(np.sum(np.square(x_train-test_point),axis=1))\n",
    "    return l2"
   ]
  },
  {
   "cell_type": "code",
   "execution_count": 7,
   "metadata": {},
   "outputs": [],
   "source": [
    "def l1_dist(x_train, test_point):\n",
    "    l1 = np.sum(abs(x_train-test_point), axis=1)\n",
    "    return l1"
   ]
  },
  {
   "cell_type": "code",
   "execution_count": 8,
   "metadata": {},
   "outputs": [],
   "source": [
    "def RMSE(predictions, true_vals):\n",
    "    return np.sqrt((np.square(predictions - true_vals)).mean())"
   ]
  },
  {
   "cell_type": "code",
   "execution_count": 34,
   "metadata": {},
   "outputs": [],
   "source": [
    "def knn(Xtest, Ytest, Xtrain, Ytrain, dist,method,k,k_lim,problem_type):\n",
    "    start = time.time()\n",
    "    RMSE_mtx = np.zeros((k_lim, 1))\n",
    "    if method == 'bf': # Brute-force method \n",
    "        if k == -1:\n",
    "            k_min_diff = (0,float('inf'))\n",
    "            k_axes = []\n",
    "            predictions = []\n",
    "            acc_axes = []\n",
    "            for k in range(1,k_lim):\n",
    "                total_diff = float(0)\n",
    "                difference = 0 \n",
    "                incorrect = 0\n",
    "                for i in range (0,Xtest.shape[0]):\n",
    "                    distance = dist(Xtrain,Xtest[i])\n",
    "                    i_nn = np.argpartition(distance, kth=k)[:k] # getting indices of k nearest neighbours\n",
    "                    train_pts = Ytrain[i_nn]\n",
    "                    \n",
    "                    if problem_type == 'reg':\n",
    "                        pred = np.sum(train_pts)/float(k) #avg the values \n",
    "                        difference = np.subtract(pred ,Ytest[i])\n",
    "                        total_diff += np.sqrt(np.square(difference))\n",
    "                        predictions.append(pred)\n",
    "                    elif problem_type == 'class':\n",
    "                        curr_pts = []\n",
    "                        for pt in (train_pts):\n",
    "                            train_idx = list(pt).index(True)\n",
    "                            curr_pts.append(train_idx)\n",
    "\n",
    "                        # Prediction \n",
    "                        classes, count = np.unique(np.asarray(curr_pts), return_counts = True)\n",
    "                        pred = classes[np.argmax(count)]\n",
    "                        \n",
    "                        test_pt = list(Ytrain[i]).index(True)\n",
    "                        if pred != test_pt:\n",
    "                            incorrect += 1\n",
    "        \n",
    "                if problem_type == 'reg':\n",
    "                    RMSE_mtx[k] = total_diff/float(len(y_test))\n",
    "                    k_axes.append(k)\n",
    "                else:\n",
    "                    acc_axes.append(incorrect/float(Xtest.shape[0]))\n",
    "                    k_axes.append(k)\n",
    "                    if incorrect < k_min_diff[1]: \n",
    "                        k_min_diff = (k, incorrect)\n",
    "            if problem_type == 'reg':\n",
    "                runtime = time.time() - start\n",
    "                return [k_axes, predictions,RMSE_mtx,runtime]\n",
    "            else:\n",
    "                runtime = time.time() - start\n",
    "                return [k_min_diff, k_axes, acc_axes,runtime]\n",
    "\n",
    "        elif k!=-1:\n",
    "            total_diff = float(0)\n",
    "            predictions = []\n",
    "            incorrect = 0\n",
    "            for i in range (0,Xtest.shape[0]):\n",
    "                distance = dist(Xtrain,Xtest[i])\n",
    "                i_nn = np.argpartition(distance, kth=k)[:k] # getting indices of k nearest neighbours\n",
    "                train_pts = Ytrain[i_nn]\n",
    "                if problem_type == 'reg':\n",
    "                    pred = np.sum(train_pts)/float(k)\n",
    "                    difference = np.subtract(pred ,Ytest[i])\n",
    "                    total_diff += np.sqrt(np.square(difference))\n",
    "                    \n",
    "                    predictions.append(pred)\n",
    "                else:\n",
    "                    curr_pts = []\n",
    "                    for pt in (train_pts):\n",
    "                        train_idx = list(pt).index(True)\n",
    "                        curr_pts.append(train_idx)\n",
    "\n",
    "                    # Prediction \n",
    "                    classes, count = np.unique(np.asarray(curr_pts), return_counts = True)\n",
    "                    pred = classes[np.argmax(count)]\n",
    "\n",
    "                    test_pt = list(Ytrain[i]).index(True)\n",
    "                    if pred != test_pt:\n",
    "                        incorrect += 1\n",
    "            if problem_type == 'reg':\n",
    "                RMSE = total_diff/float(len(Ytest))\n",
    "                runtime = time.time() - start\n",
    "                return [RMSE, runtime]\n",
    "            else:\n",
    "                accuracy = incorrect/float(Ytest.shape[0])\n",
    "                runtime = time.time() - start\n",
    "                return [accuracy,runtime]\n",
    "\n",
    "    elif method == 'd': #KDTree Method\n",
    "        kdt = neighbors.KDTree(x_train)\n",
    "        d, i_nn = kdt.query(x_test, k=k, return_distance = True)\n",
    "        preds = np.sum(y_train[i_nn], axis=1)/float(k)\n",
    "        RMSE = (np.sqrt(np.square(np.subtract(preds ,y_test))))/float(len(y_test))\n",
    "        \n",
    "        runtime = time.time() - start\n",
    "        return [(np.sum(RMSE,axis=0)), runtime]\n",
    "        \n"
   ]
  },
  {
   "cell_type": "code",
   "execution_count": 10,
   "metadata": {},
   "outputs": [],
   "source": [
    "def plot_RMSE_kestimate(x_valid, y_valid, x_train, y_train,klim):\n",
    "    k_axes_1_l1, predictions_1_l1, RMSE_1_l1,runtime = knn(x_valid, y_valid, x_train, y_train, l1_dist,'bf',-1,klim,'reg')\n",
    "    k_axes_1_l1, predictions_1_l1, RMSE_1_l2,runtime = knn(x_valid, y_valid, x_train, y_train, l2_dist,'bf',-1,klim,'reg')\n",
    "    print('Estimate of k for l1 dist metric :', np.argmin(RMSE_1_l1[1:]))\n",
    "    print('Estimate of k for l2 dist metric :', np.argmin(RMSE_1_l2[1:]))\n",
    "\n",
    "    plt.title('Estimate of k')\n",
    "    plt.xlabel('k')\n",
    "    plt.ylabel('RMSE loss')\n",
    "\n",
    "    plt.plot(RMSE_1_l1[1:],label='l1')\n",
    "    plt.plot(RMSE_1_l2[1:],label='l2')\n",
    "\n",
    "    plt.legend(frameon=False)\n",
    "    return [np.argmin(RMSE_1_l1[1:]),np.argmin(RMSE_1_l2[1:])]"
   ]
  },
  {
   "cell_type": "code",
   "execution_count": 11,
   "metadata": {},
   "outputs": [],
   "source": [
    "# Cross-Validation \n",
    "def cross_val(x_valid,x_train,y_valid, y_train,k_estimate,klim,dist,data):\n",
    "    x_train_combined = np.vstack([x_valid, x_train])\n",
    "    y_train_combined = np.vstack([y_valid, y_train])\n",
    "\n",
    "    X_train_folds = np.array_split(x_train_combined, 5)\n",
    "    y_train_folds = np.array_split(y_train_combined, 5)\n",
    "\n",
    "    pred_mtx = []\n",
    "#     total_RMSE = [None]*5\n",
    "    total_RMSE = np.zeros(((klim),5))\n",
    "\n",
    "    for i in range(5):\n",
    "        training_data, test_data = np.concatenate(X_train_folds[:i] + X_train_folds[i+1:]), X_train_folds[i]\n",
    "        training_labels, test_labels = np.concatenate(y_train_folds[:i] + y_train_folds[i+1:]), y_train_folds[i]\n",
    "        if k_estimate == -1:\n",
    "            k_axes, predictions_1, RMSE_mtx,runtime = knn(test_data, test_labels, training_data, training_labels, dist,'bf',k_estimate,klim,'reg')\n",
    "    #         pred_mtx += (predictions_1)\n",
    "    #         total_RMSE += np.sum(RMSE_mtx,axis=0)\n",
    "            RMSE_mtx.resize((RMSE_mtx.shape[0],))\n",
    "            total_RMSE[:RMSE_mtx.shape[0],i] = RMSE_mtx\n",
    "        \n",
    "        elif k_estimate!= -1:\n",
    "            predictions_1, RMSE_mtx,runtime = knn(test_data, test_labels, training_data, training_labels, dist,'bf',k_estimate,klim,'reg')\n",
    "        #     print(len(predictions_1), pred_mtx.shape,test_data.shape)\n",
    "        #     pred_mtx[:test_data.shape[0],i] = predictions_1 ####bug \n",
    "        #     pred_mtx[:test_data.shape[0]]\n",
    "            pred_mtx += (predictions_1)\n",
    "#             total_RMSE += np.sum(RMSE_1_l1,axis=0)\n",
    "            RMSE_mtx.resize((RMSE_mtx.shape[0],))\n",
    "            total_RMSE[:RMSE_mtx.shape[0],i] = RMSE_mtx\n",
    "#             total_RMSE += np.sum(RMSE_1_l1,axis=0)\n",
    "    RMSE = (np.sum(np.asarray(total_RMSE),axis=1)/5.0)\n",
    "    cross_val_RMSE = np.sum(RMSE[1:],axis=0)/float(RMSE[1:].shape[0])\n",
    "    print('Distance metric:', dist)\n",
    "    print('Overall Cross-Validation RMSE:', cross_val_RMSE)\n",
    "    print('k estimate:', np.argmin(RMSE[1:]))\n",
    "    if data == 'mauna_loa' and k_estimate != -1:        \n",
    "        \n",
    "        \n",
    "#         plt.figure(1)\n",
    "#         plt.plot(x_train_combined,pred_mtx,label='Cross-val prediction')\n",
    "#         plt.plot(x_train_combined, y_train_combined,label='True values')\n",
    "#         plt.legend(frameon=False)  \n",
    "        \n",
    "        return [x_train_combined,pred_mtx,y_train_combined, RMSE]\n",
    "        \n",
    "    return [np.argmin(RMSE[1:]),cross_val_RMSE]\n"
   ]
  },
  {
   "cell_type": "markdown",
   "metadata": {},
   "source": [
    "## Q1 Objectives\n",
    "1. Compute nearest neighbours using a brute-force approach. (Done) \n",
    "2. Implement the k-NN algorithm for regression with two different distance metrics (l1, l2) --done\n",
    "3. Use 5-fold cross-validation to estimate k \n",
    "4. Choose the preferred distance metric using a root-mean-square error (RMSE) loss. \n",
    "5. Apply your algorithm to all regression datasets (use n train=1000, d=2 for rosenbrock). For each dataset, report: estimated of k, the preferred distance metric, the cross-validation RMSE, test RMSE \n",
    "6. Format these results in a table.\n",
    "7. Plot the cross-validation prediction curves for mauna loa at several values of k for the l2 distance metric. \n",
    "8. Plot the prediction on the test set, as well as the cross-validation loss across k for this model. \n",
    "9. Discuss your results."
   ]
  },
  {
   "cell_type": "markdown",
   "metadata": {},
   "source": [
    "# Rosenbrock dataset"
   ]
  },
  {
   "cell_type": "code",
   "execution_count": 12,
   "metadata": {},
   "outputs": [],
   "source": [
    "from data_utils import load_dataset\n",
    "x_train, x_valid, x_test, y_train, y_valid, y_test = load_dataset('rosenbrock', n_train=5000, d=2)\n",
    "k_lim = int(np.ceil(np.sqrt(x_test.shape[0])))"
   ]
  },
  {
   "cell_type": "code",
   "execution_count": 13,
   "metadata": {
    "scrolled": true
   },
   "outputs": [
    {
     "name": "stdout",
     "output_type": "stream",
     "text": [
      "Distance metric: <function l1_dist at 0x7f4368eb7560>\n",
      "Overall Cross-Validation RMSE: 0.07328506607387043\n",
      "k estimate: 3\n"
     ]
    }
   ],
   "source": [
    "k_estimate_l1, RMSE_l1 = cross_val(x_valid,x_train,y_valid,y_train,-1,k_lim,l1_dist,'rosen')"
   ]
  },
  {
   "cell_type": "code",
   "execution_count": 14,
   "metadata": {
    "scrolled": true
   },
   "outputs": [
    {
     "name": "stdout",
     "output_type": "stream",
     "text": [
      "Distance metric: <function l2_dist at 0x7f4368eb7b90>\n",
      "Overall Cross-Validation RMSE: 0.07250036612847191\n",
      "k estimate: 3\n"
     ]
    }
   ],
   "source": [
    "k_estimate_l2, RMSE_l2 = cross_val(x_valid,x_train,y_valid,y_train,-1,k_lim,l2_dist,'rosen')"
   ]
  },
  {
   "cell_type": "code",
   "execution_count": 15,
   "metadata": {},
   "outputs": [
    {
     "name": "stdout",
     "output_type": "stream",
     "text": [
      "Rosenbrock dataset\n",
      "Estimated k for Rosenbrock: 3\n",
      "Preferred distance metric for Rosenbrock: <function l2_dist at 0x7f4368eb7b90>\n",
      "Overall Test RMSE: 0.01682180242233699\n",
      "Overall Cross-Validation RMSE: 0.07250036612847191\n"
     ]
    }
   ],
   "source": [
    "if RMSE_l2 <= RMSE_l1:\n",
    "    RMSE_best = RMSE_l2\n",
    "    dist = l2_dist\n",
    "    k_estimate = k_estimate_l2\n",
    "else:\n",
    "    RMSE_best = RMSE_l1\n",
    "    dist = l1_dist\n",
    "    k_estimate = k_estimate_l1\n",
    "print('Rosenbrock dataset')\n",
    "\n",
    "print('Estimated k for Rosenbrock:', k_estimate)\n",
    "print('Preferred distance metric for Rosenbrock:', str(dist))\n",
    "predictions, RMSE,runtime = knn(x_test, y_test, x_train, y_train, dist,'bf',k_estimate,k_lim,'reg')\n",
    "print('Overall Test RMSE:', (np.sum(RMSE,axis=0)/5.0))\n",
    "print('Overall Cross-Validation RMSE:', RMSE_best)\n"
   ]
  },
  {
   "cell_type": "markdown",
   "metadata": {},
   "source": [
    "# pumadyn32nm dataset"
   ]
  },
  {
   "cell_type": "code",
   "execution_count": 16,
   "metadata": {},
   "outputs": [],
   "source": [
    "from data_utils import load_dataset\n",
    "x_train, x_valid, x_test, y_train, y_valid, y_test = load_dataset('pumadyn32nm')\n",
    "k_lim = int(np.ceil(np.sqrt(x_test.shape[0])))"
   ]
  },
  {
   "cell_type": "code",
   "execution_count": 17,
   "metadata": {
    "scrolled": false
   },
   "outputs": [
    {
     "name": "stdout",
     "output_type": "stream",
     "text": [
      "Distance metric: <function l1_dist at 0x7f4368eb7560>\n",
      "Overall Cross-Validation RMSE: 1.276928900426728\n",
      "k estimate: 27\n"
     ]
    }
   ],
   "source": [
    "k_estimate_l1, RMSE_l1 = cross_val(x_valid,x_train,y_valid,y_train,-1,k_lim,l1_dist,'pumadyn')"
   ]
  },
  {
   "cell_type": "code",
   "execution_count": 18,
   "metadata": {
    "scrolled": true
   },
   "outputs": [
    {
     "name": "stdout",
     "output_type": "stream",
     "text": [
      "Distance metric: <function l2_dist at 0x7f4368eb7b90>\n",
      "Overall Cross-Validation RMSE: 1.3125363419330462\n",
      "k estimate: 18\n"
     ]
    }
   ],
   "source": [
    "k_estimate_l2, RMSE_l2 = cross_val(x_valid,x_train,y_valid,y_train,-1,k_lim,l2_dist,'pumadyn')"
   ]
  },
  {
   "cell_type": "code",
   "execution_count": 19,
   "metadata": {},
   "outputs": [
    {
     "name": "stdout",
     "output_type": "stream",
     "text": [
      "pumadyn32nm dataset\n",
      "Estimated k for pumadyn32nm: 27\n",
      "Preferred distance metric for pumadyn32nm: <function l1_dist at 0x7f4368eb7560>\n",
      "Overall Test RMSE: 0.13278341243442296\n",
      "Overall Cross-Validation RMSE: 1.276928900426728\n"
     ]
    }
   ],
   "source": [
    "if RMSE_l2 <= RMSE_l1:\n",
    "    RMSE_best = RMSE_l2\n",
    "    dist = l2_dist\n",
    "    k_estimate = k_estimate_l2\n",
    "else:\n",
    "    RMSE_best = RMSE_l1\n",
    "    dist = l1_dist\n",
    "    k_estimate = k_estimate_l1\n",
    "print('pumadyn32nm dataset')\n",
    "\n",
    "print('Estimated k for pumadyn32nm:', k_estimate)\n",
    "print('Preferred distance metric for pumadyn32nm:', str(dist))\n",
    "predictions, RMSE,runtime = knn(x_test, y_test, x_train, y_train, dist,'bf',k_estimate,k_lim,'reg')\n",
    "print('Overall Test RMSE:', (np.sum(RMSE,axis=0)/5.0))\n",
    "print('Overall Cross-Validation RMSE:', RMSE_best)"
   ]
  },
  {
   "cell_type": "markdown",
   "metadata": {},
   "source": [
    "## Mauna_loa dataset "
   ]
  },
  {
   "cell_type": "code",
   "execution_count": 20,
   "metadata": {},
   "outputs": [
    {
     "name": "stdout",
     "output_type": "stream",
     "text": [
      "(511, 1) (73, 1) (145, 1) \n",
      " (511, 1) (73, 1) (145, 1)\n"
     ]
    }
   ],
   "source": [
    "from data_utils import load_dataset\n",
    "x_train, x_valid, x_test, y_train, y_valid, y_test = load_dataset('mauna_loa')\n",
    "# estimate_mauna_l1, estimate_mauna_l2= plot_RMSE_kestimate(x_valid, y_valid, x_train, y_train,(x_valid.shape[0]))\n",
    "k_lim = x_test.shape[0]\n",
    "print(x_train.shape, x_test.shape, x_valid.shape,'\\n', y_train.shape, y_test.shape,y_valid.shape)"
   ]
  },
  {
   "cell_type": "code",
   "execution_count": 21,
   "metadata": {
    "scrolled": false
   },
   "outputs": [
    {
     "name": "stdout",
     "output_type": "stream",
     "text": [
      "Distance metric: <function l1_dist at 0x7f4368eb7560>\n",
      "Overall Cross-Validation RMSE: 0.47694309898175974\n",
      "k estimate: 10\n"
     ]
    }
   ],
   "source": [
    "k_estimate_l1, RMSE_l1 = cross_val(x_valid,x_train,y_valid,y_train,-1,k_lim,l1_dist,'mauna_loa')"
   ]
  },
  {
   "cell_type": "code",
   "execution_count": 22,
   "metadata": {
    "scrolled": true
   },
   "outputs": [
    {
     "name": "stdout",
     "output_type": "stream",
     "text": [
      "Distance metric: <function l2_dist at 0x7f4368eb7b90>\n",
      "Overall Cross-Validation RMSE: 0.47694309898175974\n",
      "k estimate: 10\n"
     ]
    }
   ],
   "source": [
    "k_estimate_l2, RMSE_l2 = cross_val(x_valid,x_train,y_valid,y_train,-1,k_lim,l2_dist,'mauna_loa')"
   ]
  },
  {
   "cell_type": "code",
   "execution_count": 23,
   "metadata": {},
   "outputs": [
    {
     "name": "stdout",
     "output_type": "stream",
     "text": [
      "Mauna_loa dataset\n",
      "Estimated k for mauna_loa: 10\n",
      "Preferred distance metric for mauna_loa: <function l2_dist at 0x7f4368eb7b90>\n",
      "Overall Test RMSE: 0.060811079298245474\n",
      "Overall Cross-Validation RMSE: 0.47694309898175974\n"
     ]
    }
   ],
   "source": [
    "if RMSE_l2 <= RMSE_l1:\n",
    "    RMSE_best = RMSE_l2\n",
    "    dist = l2_dist\n",
    "    k_estimate = k_estimate_l2\n",
    "else:\n",
    "    RMSE_best = RMSE_l1\n",
    "    dist = l1_dist\n",
    "    k_estimate = k_estimate_l1\n",
    "print('Mauna_loa dataset')\n",
    "\n",
    "print('Estimated k for mauna_loa:', k_estimate)\n",
    "print('Preferred distance metric for mauna_loa:', str(dist))\n",
    "predictions, RMSE,runtime = knn(x_test, y_test, x_train, y_train, dist,'bf',k_estimate,k_lim,'reg')\n",
    "print('Overall Test RMSE:', (np.sum(RMSE,axis=0)/5.0))\n",
    "print('Overall Cross-Validation RMSE:', RMSE_best)"
   ]
  },
  {
   "cell_type": "code",
   "execution_count": 24,
   "metadata": {},
   "outputs": [
    {
     "name": "stdout",
     "output_type": "stream",
     "text": [
      "Overall Test RMSE: 0.060811079298245474\n"
     ]
    },
    {
     "data": {
      "text/plain": [
       "<matplotlib.legend.Legend at 0x7f4369778b50>"
      ]
     },
     "execution_count": 24,
     "metadata": {},
     "output_type": "execute_result"
    },
    {
     "data": {
      "image/png": "[encoded data removed]",
      "text/plain": [
       "<Figure size 432x288 with 1 Axes>"
      ]
     },
     "metadata": {
      "needs_background": "light"
     },
     "output_type": "display_data"
    }
   ],
   "source": [
    "## Plotting prediction on test set \n",
    "predictions, RMSE,runtime = knn(x_test, y_test, x_train, y_train, dist,'bf',k_estimate, k_lim,'reg')\n",
    "print('Overall Test RMSE:', (np.sum(RMSE,axis=0)/5.0))\n",
    "plt.title('Prediction on Test Set (mauna_loa) with l2 distance metric and k=10')\n",
    "plt.plot( x_test,predictions,label='Test prediction')\n",
    "plt.plot( x_test, y_test,label='True values')\n",
    "plt.legend(frameon=False)"
   ]
  },
  {
   "cell_type": "code",
   "execution_count": 25,
   "metadata": {},
   "outputs": [
    {
     "name": "stdout",
     "output_type": "stream",
     "text": [
      "10 73 <function l2_dist at 0x7f4368eb7b90>\n",
      "Distance metric: <function l2_dist at 0x7f4368eb7b90>\n",
      "Overall Cross-Validation RMSE: 0.0\n",
      "k estimate: 0\n"
     ]
    },
    {
     "data": {
      "text/plain": [
       "[<matplotlib.lines.Line2D at 0x7f4368d652d0>]"
      ]
     },
     "execution_count": 25,
     "metadata": {},
     "output_type": "execute_result"
    },
    {
     "data": {
      "image/png": "[encoded data removed]",
      "text/plain": [
       "<Figure size 432x288 with 1 Axes>"
      ]
     },
     "metadata": {
      "needs_background": "light"
     },
     "output_type": "display_data"
    }
   ],
   "source": [
    "## Plotting cross-validation loss across k \n",
    "print(k_estimate, k_lim, dist)\n",
    "x_train_combined,pred_mtx,y_train_combined, RMSE = cross_val(x_valid,x_train,y_valid,y_train,k_estimate,k_lim,l2_dist,'mauna_loa')\n",
    "\n",
    "plt.figure(0)\n",
    "plt.title('Cross-Validation Loss across k')\n",
    "plt.plot(RMSE)\n"
   ]
  },
  {
   "cell_type": "code",
   "execution_count": 26,
   "metadata": {},
   "outputs": [
    {
     "name": "stdout",
     "output_type": "stream",
     "text": [
      "10\n",
      "Distance metric: <function l2_dist at 0x7f4368eb7b90>\n",
      "Overall Cross-Validation RMSE: 0.0\n",
      "k estimate: 0\n",
      "Distance metric: <function l2_dist at 0x7f4368eb7b90>\n",
      "Overall Cross-Validation RMSE: 0.0\n",
      "k estimate: 0\n",
      "Distance metric: <function l2_dist at 0x7f4368eb7b90>\n",
      "Overall Cross-Validation RMSE: 0.0\n",
      "k estimate: 0\n",
      "Distance metric: <function l2_dist at 0x7f4368eb7b90>\n",
      "Overall Cross-Validation RMSE: 0.0\n",
      "k estimate: 0\n"
     ]
    },
    {
     "data": {
      "image/png": "[encoded data removed]",
      "text/plain": [
       "<Figure size 432x288 with 1 Axes>"
      ]
     },
     "metadata": {
      "needs_background": "light"
     },
     "output_type": "display_data"
    }
   ],
   "source": [
    "## Plotting cross-validation prediction curves\n",
    "print(k_estimate)\n",
    "k_tries = [k_estimate, k_estimate*10, k_estimate*50, 5]\n",
    "\n",
    "plt.figure(1)\n",
    "plt.plot(x_train_combined, y_train_combined,label='True values')\n",
    "\n",
    "for k_try in k_tries:\n",
    "    x_train_combined,pred_mtx,y_train_combined, RMSE = cross_val(x_valid,x_train,y_valid,y_train,k_try,k_lim,l2_dist,'mauna_loa')\n",
    "    plt.plot(x_train_combined,pred_mtx,label='Cross-val prediction') ### Fix label\n",
    "    plt.legend(frameon=False)"
   ]
  },
  {
   "cell_type": "markdown",
   "metadata": {},
   "source": [
    "## Q2 Objectives\n",
    "1. Implement the k-NN algorithm for classification with two different distance metrics\n",
    "2. Estimate k and the preferred distance metric by maximizing the accuracy (fraction of correct predictions) on the validation split\n",
    "3. Apply your algorithm to all classification datasets. For each dataset, report: estimated k, the preferred distance metric, the validation accuracy and test accuracy\n",
    "4. Format these results in a table."
   ]
  },
  {
   "cell_type": "code",
   "execution_count": 27,
   "metadata": {},
   "outputs": [
    {
     "name": "stdout",
     "output_type": "stream",
     "text": [
      "(104, 4) (15, 4) (31, 4) \n",
      " (104, 3) (15, 3) (31, 3)\n"
     ]
    }
   ],
   "source": [
    "# Load Data\n",
    "# Note: Data provided is already scaled to zero mean and unit variance (no scaling/normalization necessary)\n",
    "\n",
    "from data_utils import load_dataset\n",
    "x_train, x_valid, x_test, y_train, y_valid, y_test = load_dataset('iris')\n",
    "# x_train, x_valid, x_test, y_train, y_valid, y_test = load_dataset('mnist_small')\n",
    "# k_lim = int(np.ceil(np.sqrt(x_test.shape[0])))\n",
    "k_lim = x_train.shape[0]\n",
    "print(x_train.shape, x_test.shape, x_valid.shape,'\\n', y_train.shape, y_test.shape,y_valid.shape )"
   ]
  },
  {
   "cell_type": "markdown",
   "metadata": {},
   "source": [
    "## Iris dataset\n"
   ]
  },
  {
   "cell_type": "code",
   "execution_count": 30,
   "metadata": {},
   "outputs": [
    {
     "name": "stdout",
     "output_type": "stream",
     "text": [
      "Iris set\n",
      "k estimate: 6\n",
      "Preferred: l1 distance metric\n",
      "Validation Accuracy: 0.6918258690886312\n",
      "Test Accuracy: 0.5333333333333333\n"
     ]
    },
    {
     "data": {
      "text/plain": [
       "<matplotlib.legend.Legend at 0x7f4368c08e10>"
      ]
     },
     "execution_count": 30,
     "metadata": {},
     "output_type": "execute_result"
    },
    {
     "data": {
      "image/png": "[encoded data removed]",
      "text/plain": [
       "<Figure size 432x288 with 1 Axes>"
      ]
     },
     "metadata": {
      "needs_background": "light"
     },
     "output_type": "display_data"
    }
   ],
   "source": [
    "# Validation Accuracy \n",
    "\n",
    "k_min_diff2, k_axes2, acc_axes2,runtime = knn(x_valid,y_valid,x_train,y_train,l2_dist,'bf',-1,k_lim,'class')\n",
    "k_min_diff4, k_axes4, acc_axes4,runtime = knn(x_valid,y_valid,x_train,y_train,l1_dist,'bf',-1,k_lim,'class')\n",
    "accuracy_l2 = np.sum(np.asarray(acc_axes2),axis=0)/float(len(acc_axes2))\n",
    "accuracy_l1 = np.sum(np.asarray(acc_axes4),axis=0)/float(len(acc_axes4))\n",
    "\n",
    "if accuracy_l2 <= accuracy_l1:\n",
    "    preferred = 'l2 distance metric'\n",
    "    dist_pref = l2_dist\n",
    "    k_estimate = k_min_diff2[0]\n",
    "    acc = accuracy_l2\n",
    "else:\n",
    "    preferred = 'l1 distance metric'\n",
    "    dist_pref = l1_dist\n",
    "    k_estimate = k_min_diff4[0]\n",
    "    acc = accuracy_l1\n",
    "\n",
    "print('Iris set')\n",
    "\n",
    "print('k estimate:', k_estimate)\n",
    "print('Preferred:', preferred)\n",
    "print('Validation Accuracy:', acc)\n",
    "\n",
    "# Test Accuracy \n",
    "\n",
    "test_acc,runtime = knn(x_test,y_test,x_train,y_train,dist_pref,'bf',k_estimate,k_lim,'class')\n",
    "print('Test Accuracy:', test_acc)\n",
    "\n",
    "# plt.title('')\n",
    "plt.plot(k_axes2,acc_axes2,label='l2')\n",
    "plt.plot(k_axes4,acc_axes4,label='l1')\n",
    "\n",
    "plt.legend(frameon=False)"
   ]
  },
  {
   "cell_type": "markdown",
   "metadata": {},
   "source": [
    "## mnist dataset"
   ]
  },
  {
   "cell_type": "code",
   "execution_count": 31,
   "metadata": {},
   "outputs": [],
   "source": [
    "x_train, x_valid, x_test, y_train, y_valid, y_test = load_dataset('mnist_small')\n",
    "k_lim = int(np.ceil(np.sqrt(x_test.shape[0])))"
   ]
  },
  {
   "cell_type": "code",
   "execution_count": 32,
   "metadata": {},
   "outputs": [
    {
     "name": "stdout",
     "output_type": "stream",
     "text": [
      "Iris set\n",
      "k estimate: 26\n",
      "Preferred: l1 distance metric\n",
      "Validation Accuracy: 0.8979677419354839\n",
      "Test Accuracy: 0.903\n"
     ]
    },
    {
     "data": {
      "text/plain": [
       "<matplotlib.legend.Legend at 0x7f4368b52ad0>"
      ]
     },
     "execution_count": 32,
     "metadata": {},
     "output_type": "execute_result"
    },
    {
     "data": {
      "image/png": "[encoded data removed]",
      "text/plain": [
       "<Figure size 432x288 with 1 Axes>"
      ]
     },
     "metadata": {
      "needs_background": "light"
     },
     "output_type": "display_data"
    }
   ],
   "source": [
    "# Validation Accuracy \n",
    "\n",
    "k_min_diff2, k_axes2, acc_axes2,runtime = knn(x_valid,y_valid,x_train,y_train,l2_dist,'bf',-1,k_lim,'class')\n",
    "k_min_diff4, k_axes4, acc_axes4,runtime = knn(x_valid,y_valid,x_train,y_train,l1_dist,'bf',-1,k_lim,'class')\n",
    "accuracy_l2 = np.sum(np.asarray(acc_axes2),axis=0)/float(len(acc_axes2))\n",
    "accuracy_l1 = np.sum(np.asarray(acc_axes4),axis=0)/float(len(acc_axes4))\n",
    "\n",
    "if accuracy_l2 <= accuracy_l1:\n",
    "    preferred = 'l2 distance metric'\n",
    "    dist_pref = l2_dist\n",
    "    k_estimate = k_min_diff2[0]\n",
    "    acc = accuracy_l2\n",
    "else:\n",
    "    preferred = 'l1 distance metric'\n",
    "    dist_pref = l1_dist\n",
    "    k_estimate = k_min_diff4[0]\n",
    "    acc = accuracy_l1\n",
    "\n",
    "print('Iris set')\n",
    "\n",
    "print('k estimate:', k_estimate)\n",
    "print('Preferred:', preferred)\n",
    "print('Validation Accuracy:', acc)\n",
    "\n",
    "# Test Accuracy \n",
    "\n",
    "test_acc,runtime = knn(x_test,y_test,x_train,y_train,dist_pref,'bf',k_estimate,k_lim,'class')\n",
    "print('Test Accuracy:', test_acc)\n",
    "\n",
    "# plt.title('')\n",
    "plt.plot(k_axes2,acc_axes2,label='l2')\n",
    "plt.plot(k_axes4,acc_axes4,label='l1')\n",
    "\n",
    "plt.legend(frameon=False)"
   ]
  },
  {
   "cell_type": "code",
   "execution_count": null,
   "metadata": {},
   "outputs": [],
   "source": []
  },
  {
   "cell_type": "markdown",
   "metadata": {},
   "source": [
    "## Q3 Objectives\n",
    "1. Test the performance of your k-NN regression algorithm with a k-d tree data structure\n",
    "2. Conduct performance studies by making predictions on the test set of the rosenbrock regression dataset with n train=5000. Report the run-time for varying values of d in a single plot. Use the l2 distance metric and k = 5.\n",
    "3. Comment on the relativeperformance of the k-d tree algorithm versus the brute-force approach implemented while answering Q1 and Q2. \n",
    "4. Use the time.time function to measure elapsed wall-clock time. "
   ]
  },
  {
   "cell_type": "code",
   "execution_count": 37,
   "metadata": {},
   "outputs": [
    {
     "data": {
      "text/plain": [
       "<matplotlib.legend.Legend at 0x7f4368b209d0>"
      ]
     },
     "execution_count": 37,
     "metadata": {},
     "output_type": "execute_result"
    },
    {
     "data": {
      "image/png": "[encoded data removed]",
      "text/plain": [
       "<Figure size 432x288 with 1 Axes>"
      ]
     },
     "metadata": {
      "needs_background": "light"
     },
     "output_type": "display_data"
    }
   ],
   "source": [
    "d_vals = np.arange(2,10)\n",
    "bf_runtime_total = []\n",
    "d_runtime_total = []\n",
    "\n",
    "from data_utils import load_dataset\n",
    "\n",
    "for val in d_vals:\n",
    "    x_train, x_valid, x_test, y_train, y_valid, y_test = load_dataset('rosenbrock', n_train=5000, d=val)\n",
    "    bf_RMSE, bf_runtime = knn(x_test, y_test, x_train, y_train, l2_dist,'bf',5,int(np.ceil(np.sqrt(x_test.shape[0]))),'reg')\n",
    "    d_RMSE, d_runtime = knn(x_test, y_test, x_train, y_train, l2_dist,'d',5,int(np.ceil(np.sqrt(x_test.shape[0]))),'reg')\n",
    "    bf_runtime_total.append(bf_runtime)\n",
    "    d_runtime_total.append(d_runtime)\n",
    "\n",
    "plt.title('Runtime for Varying d values')\n",
    "plt.plot(d_vals, bf_runtime_total, label = 'Brute-Force runtime')\n",
    "plt.plot(d_vals, d_runtime_total, label = 'KDT runtime')\n",
    "plt.xlabel ('d value')\n",
    "plt.ylabel ('Run-time')\n",
    "plt.legend(frameon=False)    "
   ]
  },
  {
   "cell_type": "markdown",
   "metadata": {},
   "source": [
    "## Q4 Objectives\n",
    "1. Implement a linear regression algorithm that minimizes the least-squares loss function (using the SVD) and apply to all datasets (regression and classification).\n",
    "2. Use both the training and validation sets to predict on the test set, and format your results in a table (present test RMSE for regression, and test accuracy for classification).\n",
    "3. Compare the performance of this method to the k-NN algorithm."
   ]
  },
  {
   "cell_type": "code",
   "execution_count": 38,
   "metadata": {},
   "outputs": [],
   "source": [
    "def lin_reg(x_train, x_valid, x_test, y_train, y_valid, y_test, model):\n",
    "    x_combined = np.vstack([x_train, x_valid])\n",
    "    y_combined = np.vstack([y_train, y_valid])\n",
    "\n",
    "    X = np.zeros(((x_combined.shape[0]), (x_combined.shape[1]) + 1))\n",
    "    X[:, 1:] = x_combined\n",
    "    total_diff = 0 \n",
    "\n",
    "    # Compute SVD\n",
    "    u, s, vh = np.linalg.svd(X)\n",
    "\n",
    "\n",
    "    #V1 \n",
    "#         sigma = np.zeros(X.shape)\n",
    "#         sigma[:X.shape[1], :X.shape[1]] = np.diag(s)\n",
    "#         sigma_pinv = vh.T.dot(sigma.T).dot(u.T)\n",
    "\n",
    "    #V2 \n",
    "    sigma = np.diag(s)\n",
    "    dummy = np.zeros([len(x_combined)-len(s), len(s)])\n",
    "    sigma_pinv = np.linalg.pinv(np.vstack([sigma, dummy]))\n",
    "\n",
    "    # Compute weights \n",
    "    w = np.dot(vh.T, np.dot(sigma_pinv, np.dot(u.T, y_combined)))\n",
    "\n",
    "    X_test = np.zeros(((x_test.shape[0]), (x_test.shape[1]) + 1))\n",
    "    X_test[:, 1:] = x_test\n",
    "    \n",
    "    if model == 'reg':\n",
    "        # Calculate prediction RMSE\n",
    "        preds = np.dot(X_test, w)\n",
    "        difference = np.subtract(preds ,y_test)\n",
    "        total_diff += np.sqrt(np.square(difference))\n",
    "        RMSE = total_diff/float(len(y_test))\n",
    "        return np.sum(RMSE,axis=0)\n",
    "        \n",
    "    elif model == 'class':\n",
    "        # Calculate prediction accuracy\n",
    "        preds = np.argmax(np.dot(X_test, w), axis=1)\n",
    "        y_test = np.argmax((y_test), axis=1)\n",
    "        return ((preds == y_test).sum()/float(len(y_test)))"
   ]
  },
  {
   "cell_type": "code",
   "execution_count": 39,
   "metadata": {},
   "outputs": [
    {
     "name": "stdout",
     "output_type": "stream",
     "text": [
      "Test RMSE for mauna_loa: 0.28972668720017775\n",
      "Test RMSE for rosenbrock: 0.4920845447935378\n",
      "Test RMSE for pumadyn32nm: 0.67992525600153\n",
      "Classification accuracy for iris: 0.8666666666666667\n",
      "Classification accuracy for mnist_small: 0.857\n"
     ]
    }
   ],
   "source": [
    "from data_utils import load_dataset\n",
    "x_train, x_valid, x_test, y_train, y_valid, y_test = load_dataset('mauna_loa')\n",
    "result = lin_reg(x_train, x_valid, x_test, y_train, y_valid, y_test, 'reg')\n",
    "print('Test RMSE for mauna_loa:' ,result[0])\n",
    "\n",
    "x_train, x_valid, x_test, y_train, y_valid, y_test = load_dataset('rosenbrock', n_train=5000, d=2)\n",
    "result = lin_reg(x_train, x_valid, x_test, y_train, y_valid, y_test, 'reg')\n",
    "print('Test RMSE for rosenbrock:' ,result[0])\n",
    "\n",
    "x_train, x_valid, x_test, y_train, y_valid, y_test = load_dataset('pumadyn32nm')\n",
    "result = lin_reg(x_train, x_valid, x_test, y_train, y_valid, y_test, 'reg')\n",
    "print('Test RMSE for pumadyn32nm:' ,result[0])\n",
    "\n",
    "x_train, x_valid, x_test, y_train, y_valid, y_test = load_dataset('iris')\n",
    "result = lin_reg(x_train, x_valid, x_test, y_train, y_valid, y_test, 'class')\n",
    "print('Classification accuracy for iris:' ,result)\n",
    "\n",
    "x_train, x_valid, x_test, y_train, y_valid, y_test = load_dataset('mnist_small')\n",
    "result = lin_reg(x_train, x_valid, x_test, y_train, y_valid, y_test, 'class')\n",
    "print('Classification accuracy for mnist_small:' ,result)"
   ]
  },
  {
   "cell_type": "code",
   "execution_count": null,
   "metadata": {},
   "outputs": [],
   "source": []
  }
 ],
 "metadata": {
  "kernelspec": {
   "display_name": "Python 3.7.4 64-bit ('base': conda)",
   "language": "python",
   "name": "python37464bitbasecondaf8325423b44c4a6baa647795c44880d5"
  },
  "language_info": {
   "codemirror_mode": {
    "name": "ipython",
    "version": 3
   },
   "file_extension": ".py",
   "mimetype": "text/x-python",
   "name": "python",
   "nbconvert_exporter": "python",
   "pygments_lexer": "ipython3",
   "version": "3.7.4"
  }
 },
 "nbformat": 4,
 "nbformat_minor": 2
}
