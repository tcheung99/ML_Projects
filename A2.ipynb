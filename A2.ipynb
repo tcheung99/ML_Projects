{
 "cells": [
  {
   "cell_type": "code",
   "execution_count": 1,
   "metadata": {
    "colab": {},
    "colab_type": "code",
    "id": "KpOK0D_ynhAT"
   },
   "outputs": [],
   "source": [
    "import numpy as np\n",
    "import math\n",
    "from matplotlib import pyplot as plt\n",
    "from data_utils import load_dataset"
   ]
  },
  {
   "cell_type": "markdown",
   "metadata": {
    "colab_type": "text",
    "id": "lj6LzNEPnhAf"
   },
   "source": [
    "## Question 2: GLM using SVD "
   ]
  },
  {
   "cell_type": "code",
   "execution_count": 2,
   "metadata": {
    "colab": {},
    "colab_type": "code",
    "id": "exKyvV0anhAb"
   },
   "outputs": [],
   "source": [
    "x_train, x_valid, x_test, y_train, y_valid, y_test = load_dataset('mauna_loa')"
   ]
  },
  {
   "cell_type": "code",
   "execution_count": 3,
   "metadata": {
    "colab": {},
    "colab_type": "code",
    "id": "IFyYDMXAnhAh"
   },
   "outputs": [],
   "source": [
    "def apply_basis_functions(x):\n",
    "    omega = 2*math.pi/0.0564\n",
    "    phi = [None]*5\n",
    "    phi[0] = 1 \n",
    "    phi[1] = x**2\n",
    "    phi[2] = np.sqrt(2)*x \n",
    "    phi[3] = x*(math.cos(omega*x)) \n",
    "    phi[4] = x*(math.sin(omega*x)) \n",
    "    return np.array(phi)"
   ]
  },
  {
   "cell_type": "code",
   "execution_count": 4,
   "metadata": {
    "colab": {},
    "colab_type": "code",
    "id": "uaWMDQHEnhAl"
   },
   "outputs": [],
   "source": [
    "def rmse(pred,true):\n",
    "    return np.sqrt(np.mean((pred-true)**2))"
   ]
  },
  {
   "cell_type": "code",
   "execution_count": 5,
   "metadata": {
    "colab": {},
    "colab_type": "code",
    "id": "xqY3oJCKnhAr"
   },
   "outputs": [],
   "source": [
    "def GLM_SVD(x_training, y_training, x_testing, y_testing, l_param):\n",
    "    # Initialize phi matrix \n",
    "    Phi = np.empty((x_training.size,5)) # Length of x_train and width based on number of basis functions \n",
    "    Phi_valid = np.empty((x_testing.size,5))\n",
    "    \n",
    "    # Initialize lambda values \n",
    "    lamb_vals = list(range(0,51))\n",
    "    \n",
    "    # Construct phi matrix \n",
    "    for i in range(x_training.size):\n",
    "        Phi[i] = apply_basis_functions(x_training[i])\n",
    "    \n",
    "    # Construct phi matrix \n",
    "    for i in range(x_testing.size):\n",
    "        Phi_valid[i] = apply_basis_functions(x_testing[i])\n",
    "            \n",
    "    # Compute SVD with Phi \n",
    "    u, s, vh = np.linalg.svd(Phi)\n",
    "    \n",
    "    dummy = np.zeros( ((x_training.size) - (s.size), (s.size)) )\n",
    "    sigma = np.vstack([np.diag(s), dummy])\n",
    "\n",
    "    if l_param == -1: # Need to choose lambda \n",
    "        # Compute weights and predictions for each lambda to find parameter with minimum rmse value \n",
    "        min_rmse = np.inf\n",
    "        for lamb_val in lamb_vals:\n",
    "            intermediate = np.linalg.inv(np.dot(sigma.T, sigma) + lamb_val*np.identity((np.dot(sigma.T, sigma).shape[0])))\n",
    "            w = np.dot(vh.T, np.dot(intermediate, np.dot(sigma.T, np.dot(u.T, y_training))))\n",
    "            preds = np.dot(Phi_valid, w)\n",
    "            rmse_val = rmse(y_testing, preds)\n",
    "            if rmse_val < min_rmse:\n",
    "                min_rmse = rmse_val\n",
    "                best_lambda = lamb_val\n",
    "        return best_lambda\n",
    "    \n",
    "    else:\n",
    "        intermediate = np.linalg.inv(np.dot(sigma.T, sigma) + l_param*np.identity((np.dot(sigma.T, sigma).shape[0])))\n",
    "        w = np.dot(vh.T, np.dot(intermediate, np.dot(sigma.T, np.dot(u.T, y_training))))\n",
    "        preds = np.dot(Phi_valid, w)\n",
    "        rmse_val = rmse(preds,y_testing)\n",
    "\n",
    "        return [rmse_val,preds]"
   ]
  },
  {
   "cell_type": "code",
   "execution_count": 6,
   "metadata": {
    "colab": {
     "base_uri": "https://localhost:8080/",
     "height": 323
    },
    "colab_type": "code",
    "id": "8YNqJqPXnhAv",
    "outputId": "d8b9d6e4-9360-428a-9253-b23343c0bcba"
   },
   "outputs": [
    {
     "name": "stdout",
     "output_type": "stream",
     "text": [
      "Optimal choice for regularization parameter:  14\n"
     ]
    }
   ],
   "source": [
    "l_param = GLM_SVD(x_train, y_train, x_valid, y_valid, -1)\n",
    "print('Optimal choice for regularization parameter: ', l_param)"
   ]
  },
  {
   "cell_type": "code",
   "execution_count": 171,
   "metadata": {
    "colab": {
     "base_uri": "https://localhost:8080/",
     "height": 34
    },
    "colab_type": "code",
    "id": "7heLptQMnhA0",
    "outputId": "4dbaafc2-8eb8-4125-9d5c-da9613bd1376"
   },
   "outputs": [
    {
     "name": "stdout",
     "output_type": "stream",
     "text": [
      "Test RMSE:  0.10671723698709626\n"
     ]
    }
   ],
   "source": [
    "x_total = np.vstack([x_train, x_valid])\n",
    "y_total = np.vstack([y_train, y_valid])\n",
    "\n",
    "test_rmse, Q2_preds = GLM_SVD(x_total, y_total, x_test, y_test, l_param)\n",
    "print('Test RMSE: ', test_rmse)"
   ]
  },
  {
   "cell_type": "code",
   "execution_count": 0,
   "metadata": {
    "colab": {},
    "colab_type": "code",
    "id": "OuAivKL3nhA5"
   },
   "outputs": [],
   "source": [
    "def plot_predsQ2(preds,x_test, y_test):\n",
    "    plt.figure(1)\n",
    "    plt.plot(x_test, y_test, label='Actual')\n",
    "    plt.plot(x_test, preds, label='Predicted')\n",
    "    plt.title('GLM Predictions for Mauna_loa dataset at lambda=' + str(l_param))\n",
    "    plt.xlabel('x_test')\n",
    "    plt.ylabel('y')\n",
    "    plt.legend()\n",
    "    plt.savefig('mauna_loa_Q2.jpg')"
   ]
  },
  {
   "cell_type": "code",
   "execution_count": 173,
   "metadata": {
    "colab": {
     "base_uri": "https://localhost:8080/",
     "height": 296
    },
    "colab_type": "code",
    "id": "6foSqEe8nhA8",
    "outputId": "04e112ac-df9e-4c2c-b0e8-94efafc9edb4"
   },
   "outputs": [
    {
     "data": {
      "image/png": "[encoded data removed]",
      "text/plain": [
       "<Figure size 432x288 with 1 Axes>"
      ]
     },
     "metadata": {
      "tags": []
     },
     "output_type": "display_data"
    }
   ],
   "source": [
    "plot_predsQ2(Q2_preds, x_test, y_test)"
   ]
  },
  {
   "cell_type": "markdown",
   "metadata": {
    "colab_type": "text",
    "id": "3Wug150SnhBB"
   },
   "source": [
    "## Question 3: Kernelized GLM from a Dual Perspective "
   ]
  },
  {
   "cell_type": "markdown",
   "metadata": {
    "colab_type": "text",
    "id": "Dl42_tzznhBC"
   },
   "source": [
    "Considering the same basis functions used in Q2, construct a kernelized GLM from the\n",
    "dual perspective. Select a positive regularization parameter, and construct the model\n",
    "using the Cholesky factorization. Comment on the computational cost and memory\n",
    "requirements of the dual approach versus the primal approach. Also, visualize your\n",
    "designed kernel by plotting k(0, z), and by plotting k(1, z + 1) where z ∈ [−0.1, 0.1].\n",
    "Is your kernel translation-invariant (stationary)? Make your argument based on your\n",
    "plots of the kernel."
   ]
  },
  {
   "cell_type": "code",
   "execution_count": 0,
   "metadata": {
    "colab": {},
    "colab_type": "code",
    "id": "T2agWj0KnhBD"
   },
   "outputs": [],
   "source": [
    "x_train, x_valid, x_test, y_train, y_valid, y_test = load_dataset('mauna_loa')\n",
    "x_total = np.vstack([x_train, x_valid])\n",
    "y_total = np.vstack([y_train, y_valid])"
   ]
  },
  {
   "cell_type": "code",
   "execution_count": 0,
   "metadata": {
    "colab": {},
    "colab_type": "code",
    "id": "L4TN8-kknhBH"
   },
   "outputs": [],
   "source": [
    "def kernelize(x1,x2):\n",
    "    # Polynomial kernel based on polynomial basis functions \n",
    "    return (1+x1*x2)**2 + x1*x2*math.cos(2*math.pi/0.0564*(x1-x2))"
   ]
  },
  {
   "cell_type": "code",
   "execution_count": 0,
   "metadata": {
    "colab": {},
    "colab_type": "code",
    "id": "GIAVjgf3nhBL"
   },
   "outputs": [],
   "source": [
    "def GLM_kernelized(x_total, y_total, x_test, y_test, l_param):\n",
    "    # Under the dual representation, we use the Gram matrix, K, to represent kernelizing\n",
    "\n",
    "    K = np.empty((x_total.size, x_total.size))\n",
    "\n",
    "    for i in range(len(x_total)):\n",
    "        for j in range(len(x_total)):\n",
    "            x1 = x_total[i]\n",
    "            x2 = x_total[j]\n",
    "            \n",
    "            K[i,j] = kernelize(x1,x2)\n",
    "            \n",
    "    # Compute Cholesky factorization with K + lambda*identity as per lecture slides  \n",
    "    R = np.linalg.cholesky(K+l_param*np.identity(len(K)))\n",
    "    \n",
    "    R_inv = np.linalg.inv(R)\n",
    "    \n",
    "    # Compute alpha, the dual variables \n",
    "    alpha = np.dot(np.dot(R_inv.T, R_inv), y_total)\n",
    "    \n",
    "    # Under dual representation, we can compute the predictions based on the kernel instead of the feature vector \n",
    "    # of basis functions. Thus, the predictions for each x_test entry can be computed as such:\n",
    "    \n",
    "    preds = np.empty(np.shape(y_test))\n",
    "\n",
    "    for i in range(len(x_test)):\n",
    "        k_i = np.empty(np.shape(alpha))\n",
    "        for j in range(len(x_total)):\n",
    "            k_i[j] = kernelize(x_test[i],x_total[j])\n",
    "        preds[i] = np.dot(k_i.T,alpha)\n",
    "    \n",
    "    rmse_value = rmse(preds, y_test)\n",
    "\n",
    "    plt.figure(2)\n",
    "    plt.plot(x_test, y_test, label='Actual')\n",
    "    plt.plot(x_test, preds, label='Predicted')\n",
    "    plt.title('Kernelized GLM Predictions for Mauna_loa dataset at lambda=' + str(l_param))\n",
    "    plt.xlabel('x_test')\n",
    "    plt.ylabel('y')\n",
    "    plt.legend()\n",
    "    plt.savefig('mauna_loa_Q3.jpg')\n",
    "\n",
    "    return rmse_value"
   ]
  },
  {
   "cell_type": "code",
   "execution_count": 177,
   "metadata": {
    "colab": {
     "base_uri": "https://localhost:8080/",
     "height": 313
    },
    "colab_type": "code",
    "id": "aKQRf0ZwnhBP",
    "outputId": "edba05e8-f265-4b47-b6f8-f4393e2a78c0"
   },
   "outputs": [
    {
     "data": {
      "text/plain": [
       "0.10671723698708326"
      ]
     },
     "execution_count": 177,
     "metadata": {
      "tags": []
     },
     "output_type": "execute_result"
    },
    {
     "data": {
      "image/png": "[encoded data removed]",
      "text/plain": [
       "<Figure size 432x288 with 1 Axes>"
      ]
     },
     "metadata": {
      "tags": []
     },
     "output_type": "display_data"
    }
   ],
   "source": [
    "GLM_kernelized(x_total, y_total, x_test, y_test, 14)"
   ]
  },
  {
   "cell_type": "code",
   "execution_count": 0,
   "metadata": {
    "colab": {},
    "colab_type": "code",
    "id": "PXmaJAm2nhBT"
   },
   "outputs": [],
   "source": [
    "def kernel_viz():\n",
    "    for i in range(2):\n",
    "        y_vals = list([])\n",
    "        z = np.linspace(-0.1+i,0.1+i)\n",
    "        z = np.array(z)\n",
    "        for z_val in z:\n",
    "            y_vals.append(kernelize(0+i,z_val))\n",
    "            \n",
    "        plt.figure(i+3)\n",
    "        plt.plot(z, y_vals)\n",
    "        plt.title('Visualization of Kernel for k(' + str(i) + ',z+' + str(i) + ')')\n",
    "        plt.xlabel('z')\n",
    "        plt.ylabel('k('+ str(i) + ',z+' + str(i) + ')')\n",
    "        plt.legend()\n",
    "        plt.savefig('mauna_loa_Q3_kernel'+str(i)+'.jpg')"
   ]
  },
  {
   "cell_type": "code",
   "execution_count": 179,
   "metadata": {
    "colab": {
     "base_uri": "https://localhost:8080/",
     "height": 607
    },
    "colab_type": "code",
    "id": "ioUvW996nhBW",
    "outputId": "71f09d39-f4c9-409d-b400-d4ed7cb099f8"
   },
   "outputs": [
    {
     "name": "stderr",
     "output_type": "stream",
     "text": [
      "No handles with labels found to put in legend.\n",
      "No handles with labels found to put in legend.\n"
     ]
    },
    {
     "data": {
      "image/png": "[encoded data removed]",
      "text/plain": [
       "<Figure size 432x288 with 1 Axes>"
      ]
     },
     "metadata": {
      "tags": []
     },
     "output_type": "display_data"
    },
    {
     "data": {
      "image/png": "[encoded data removed]",
      "text/plain": [
       "<Figure size 432x288 with 1 Axes>"
      ]
     },
     "metadata": {
      "tags": []
     },
     "output_type": "display_data"
    }
   ],
   "source": [
    "kernel_viz()"
   ]
  },
  {
   "cell_type": "markdown",
   "metadata": {
    "colab_type": "text",
    "id": "qcHg226HnhBa"
   },
   "source": [
    "## Question 4: RBF"
   ]
  },
  {
   "cell_type": "markdown",
   "metadata": {
    "colab_type": "text",
    "id": "RKLkwdo6nhBb"
   },
   "source": [
    "Construct a radial basis function (RBF) model that minimizes the least-squares loss\n",
    "function. Use a Gaussian kernel and consider the grid of shape parameter values θ =\n",
    "{0.05, 0.1, 0.5, 1, 2}, consider the grid of regularization parameters {0.001, 0.01, 0.1, 1},\n",
    "and construct the model using Cholesky factorization. Select the hyperparameters\n",
    "across the grid of possible values by evaluating on the validation set. Construct the\n",
    "model on the datasets iris, rosenbrock (with n train=1000, d=2), and mauna loa.\n",
    "Use both the training and validation sets to predict on the test set, and format your\n",
    "results in a table (present test RMSE for regression datasets, and test accuracy for\n",
    "classification datasets)."
   ]
  },
  {
   "cell_type": "code",
   "execution_count": 41,
   "metadata": {
    "colab": {},
    "colab_type": "code",
    "id": "0vTQ-pu7nhBc"
   },
   "outputs": [],
   "source": [
    "x_train, x_valid, x_test, y_train, y_valid, y_test = load_dataset('mauna_loa')\n",
    "x_total = np.vstack([x_train, x_valid])\n",
    "y_total = np.vstack([y_train, y_valid])"
   ]
  },
  {
   "cell_type": "code",
   "execution_count": 42,
   "metadata": {
    "colab": {},
    "colab_type": "code",
    "id": "TfDoWHmdnhBe"
   },
   "outputs": [],
   "source": [
    "def gaussian_kernel(x,z,theta):\n",
    "    return np.exp(-(np.linalg.norm([x-z],ord=2))**2/theta)"
   ]
  },
  {
   "cell_type": "code",
   "execution_count": null,
   "metadata": {
    "colab": {},
    "colab_type": "code",
    "id": "hSd2ZKfXnhBh"
   },
   "outputs": [],
   "source": [
    "# RBF Regression model is of the form: f(x,alpha) = sum(alpha_i*kernel(x,x_i))\n",
    "def rbf(dataset,x_training,y_training,x_testing,y_testing, theta_vals, reg_params):\n",
    "    if not theta_vals and not reg_params:\n",
    "        theta_vals = [0.05, 0.1, 0.5, 1, 2]\n",
    "        reg_params = [0.001, 0.01, 0.1, 1]\n",
    "        test = False\n",
    "    else:\n",
    "        test = True\n",
    "    results = list([])\n",
    "    \n",
    "    for theta in theta_vals:\n",
    "#         K = np.empty((x_training.size, x_training.size))\n",
    "        K = np.empty((len(x_training), len(x_training)))\n",
    "        kernel = np.empty((len(x_testing), len(x_training)))\n",
    "    \n",
    "        for i in range(len(x_training)):\n",
    "            for j in range(len(x_training)):\n",
    "                K[i,j] = gaussian_kernel(x_training[i], x_training[j],theta)\n",
    "                if i!=j:\n",
    "                    K[j,i] = K[i,j]\n",
    "\n",
    "        for i in range(len(x_testing)):\n",
    "            for j in range(len(x_training)):\n",
    "                kernel[i,j] = gaussian_kernel(x_testing[i],x_training[j],theta)\n",
    "    \n",
    "        for l_param in reg_params:\n",
    "            \n",
    "            # Compute alpha with Cholesky factorization with gram matrix K + lambda*identity as per lecture slides  \n",
    "            R = np.linalg.cholesky(K+l_param*np.identity(len(K)))\n",
    "            R_inv = np.linalg.inv(R)\n",
    "\n",
    "            # Compute alpha\n",
    "            alpha = np.dot(np.dot(R_inv.T, R_inv), y_training)\n",
    "            \n",
    "            # Predict using alpha and kernel array \n",
    "            if dataset == 'mauna_loa' or dataset == 'rosenbrock': # If regression dataset \n",
    "                predictions = np.dot(kernel, alpha)\n",
    "                rmse_val = rmse(predictions,y_testing)\n",
    "                results.append([rmse_val, theta, l_param])\n",
    "\n",
    "            else: # If classification datasets\n",
    "                predictions = np.argmax(np.dot(kernel, alpha), axis=1)\n",
    "                y_testing_new = np.argmax(1*y_testing, axis=1)\n",
    "                pred_acc = (predictions == y_testing_new).sum()/len(y_testing_new)\n",
    "                results.append([pred_acc, theta, l_param])\n",
    "    # Get optimal parameters \n",
    "    results = np.array(results)\n",
    "    if test==False:\n",
    "        if dataset == 'mauna_loa' or dataset == 'rosenbrock':\n",
    "            return results[(np.argmin(results, axis=0))[0]]\n",
    "        else:\n",
    "            return results[(np.argmax(results, axis=0))[0]]\n",
    "    else:\n",
    "        return results[0][0]"
   ]
  },
  {
   "cell_type": "code",
   "execution_count": 44,
   "metadata": {
    "colab": {
     "base_uri": "https://localhost:8080/",
     "height": 68
    },
    "colab_type": "code",
    "id": "VrU-AjCtnhBk",
    "outputId": "060f1a7f-86a3-459b-e9a3-d0041407514e"
   },
   "outputs": [
    {
     "name": "stdout",
     "output_type": "stream",
     "text": [
      "Validation RMSE for mauna_loa: 0.12447867031587516\n",
      "Optimal theta for mauna_loa: 1.0\n",
      "Optimal Regularization Parameter for mauna_loa: 0.001\n"
     ]
    }
   ],
   "source": [
    "best_rmse, opt_theta, opt_param = rbf('mauna_loa',x_train,y_train,x_valid,y_valid,[],[])\n",
    "print('Validation RMSE for mauna_loa:' , best_rmse)\n",
    "print('Optimal theta for mauna_loa:' , opt_theta)\n",
    "print('Optimal Regularization Parameter for mauna_loa:' , opt_param)"
   ]
  },
  {
   "cell_type": "code",
   "execution_count": 46,
   "metadata": {
    "colab": {
     "base_uri": "https://localhost:8080/",
     "height": 34
    },
    "colab_type": "code",
    "id": "4ZFZ0v0CnhBo",
    "outputId": "9d100aae-4329-48ac-fdd0-766919c3b469"
   },
   "outputs": [
    {
     "name": "stdout",
     "output_type": "stream",
     "text": [
      "Test RMSE for mauna_loa: 0.1497733877240507\n"
     ]
    }
   ],
   "source": [
    "test_rmse = rbf('mauna_loa',x_total,y_total,x_test,y_test,[opt_theta],[opt_param])\n",
    "print('Test RMSE for mauna_loa:', test_rmse)"
   ]
  },
  {
   "cell_type": "code",
   "execution_count": 13,
   "metadata": {
    "colab": {},
    "colab_type": "code",
    "id": "CmakDz_rnhBr"
   },
   "outputs": [],
   "source": [
    "## Testing Rosenbrock Dataset "
   ]
  },
  {
   "cell_type": "code",
   "execution_count": 51,
   "metadata": {
    "colab": {},
    "colab_type": "code",
    "id": "BsdQEyLtnhBv",
    "scrolled": true
   },
   "outputs": [],
   "source": [
    "x_train, x_valid, x_test, y_train, y_valid, y_test = load_dataset('rosenbrock', n_train=1000, d=2)"
   ]
  },
  {
   "cell_type": "code",
   "execution_count": 52,
   "metadata": {
    "colab": {
     "base_uri": "https://localhost:8080/",
     "height": 68
    },
    "colab_type": "code",
    "id": "fnBbQXrJnhBy",
    "outputId": "cd3d4bd4-ec37-4281-eaac-4078941d34cb"
   },
   "outputs": [
    {
     "name": "stdout",
     "output_type": "stream",
     "text": [
      "Validation RMSE for rosenbrock: 0.19323958697369994\n",
      "Optimal theta for rosenbrock: 2.0\n",
      "Optimal Regularization Parameter for rosenbrock: 0.001\n"
     ]
    }
   ],
   "source": [
    "best_rmse, opt_theta, opt_param = rbf('rosenbrock',x_train,y_train,x_valid,y_valid,[],[])\n",
    "print('Validation RMSE for rosenbrock:' , best_rmse)\n",
    "print('Optimal theta for rosenbrock:' , opt_theta)\n",
    "print('Optimal Regularization Parameter for rosenbrock:' , opt_param)"
   ]
  },
  {
   "cell_type": "code",
   "execution_count": 53,
   "metadata": {
    "colab": {
     "base_uri": "https://localhost:8080/",
     "height": 34
    },
    "colab_type": "code",
    "id": "FAIUcWXhnhB1",
    "outputId": "445c0f1b-0671-4b4c-8e13-26d8fe3dea73"
   },
   "outputs": [
    {
     "name": "stdout",
     "output_type": "stream",
     "text": [
      "Test RMSE for rosenbrock: 1.427520111246271\n"
     ]
    }
   ],
   "source": [
    "test_rmse = rbf('rosenbrock',x_total,y_total,x_test,y_test,[opt_theta],[opt_param])\n",
    "print('Test RMSE for rosenbrock:', test_rmse)"
   ]
  },
  {
   "cell_type": "code",
   "execution_count": null,
   "metadata": {
    "colab": {},
    "colab_type": "code",
    "id": "qaBzPeY9nhB4"
   },
   "outputs": [],
   "source": [
    "## Testing Iris Dataset "
   ]
  },
  {
   "cell_type": "code",
   "execution_count": null,
   "metadata": {
    "colab": {},
    "colab_type": "code",
    "id": "wmaruFXPnhB8",
    "scrolled": true
   },
   "outputs": [],
   "source": [
    "x_train, x_valid, x_test, y_train, y_valid, y_test = load_dataset('iris')"
   ]
  },
  {
   "cell_type": "code",
   "execution_count": null,
   "metadata": {
    "colab": {
     "base_uri": "https://localhost:8080/",
     "height": 68
    },
    "colab_type": "code",
    "id": "2s7MLI-CnhCA",
    "outputId": "68845d63-c94c-4af8-df0e-ba9ac84b7aca"
   },
   "outputs": [],
   "source": [
    "pred_acc, opt_theta, opt_param = rbf('iris',x_train,y_train,x_valid,y_valid,[],[])\n",
    "print('Prediction Accuracy for iris:' , pred_acc)\n",
    "print('Optimal theta for iris:' , opt_theta)\n",
    "print('Optimal Regularization Parameter for iris:' , opt_param)"
   ]
  },
  {
   "cell_type": "code",
   "execution_count": null,
   "metadata": {
    "colab": {
     "base_uri": "https://localhost:8080/",
     "height": 34
    },
    "colab_type": "code",
    "id": "K7igYwdCnhCD",
    "outputId": "7a892840-6edc-4ae3-ac24-9388cd33657a"
   },
   "outputs": [],
   "source": [
    "test_acc = rbf('iris',x_total,y_total,x_test,y_test,[opt_theta],[opt_param])\n",
    "print('Test Prediction Accuracy for mauna_loa:', test_acc)"
   ]
  },
  {
   "cell_type": "markdown",
   "metadata": {
    "colab": {},
    "colab_type": "code",
    "id": "h_CQaaAVtwBA"
   },
   "source": [
    "## Question 5"
   ]
  },
  {
   "cell_type": "code",
   "execution_count": 57,
   "metadata": {
    "colab": {},
    "colab_type": "code",
    "id": "zaY8QgoHtwKK"
   },
   "outputs": [],
   "source": [
    "x_train, x_valid, x_test, y_train, y_valid, y_test = load_dataset('rosenbrock', n_train=200, d=2)\n",
    "x_total = np.vstack([x_train, x_valid])\n",
    "y_total = np.vstack([y_train, y_valid])"
   ]
  },
  {
   "cell_type": "code",
   "execution_count": 61,
   "metadata": {
    "colab": {},
    "colab_type": "code",
    "id": "iwU5YeVctxXe"
   },
   "outputs": [],
   "source": [
    "def greedy_regression(x_train,y_train,x_valid,y_valid,theta,k_range):\n",
    "    basis_funct_dict = list(range(len(x_train)))\n",
    "    \n",
    "    selected = list([])\n",
    "    candidates = (basis_funct_dict)\n",
    "    \n",
    "    N = len(x_train)\n",
    "    k = 0\n",
    "    J = list([])\n",
    "    prev_mdl = np.inf \n",
    "    r = y_train # Initially, residual is everything \n",
    "#     while (np.linalg.norm(r,ord=2)) > mdl:\n",
    "#         k += 1 \n",
    "    for k in range(1,k_range+1):\n",
    "        J = list([])\n",
    "        \n",
    "#         for index in candidates:\n",
    "#             phi_col = np.zeros((len(x_train), ))\n",
    "#             for item in range(len(x_train)):\n",
    "#                 phi_col[item] = gaussian_kernel(x_train[item], x_train[index], theta)\n",
    "#             val = (np.dot(phi_col.T, r))**2 / np.dot(phi_col.T, phi_col)\n",
    "#             J.append((index, val))\n",
    "        \n",
    "        \n",
    "        # Pick a new basis function from candidates based on J\n",
    "        for idx in candidates:\n",
    "            phi_col = np.empty((len(x_train), ))\n",
    "            for i in range(len(x_train)):\n",
    "                phi_col[i] = gaussian_kernel(x_train[i], x_train[idx], theta)\n",
    "            J_val = (np.dot(phi_col.T, r))**2/np.dot(phi_col.T, phi_col)\n",
    "#             print(J_val)\n",
    "            J.append([idx, float(J_val)])\n",
    "\n",
    "#         J = np.array(J)\n",
    "#         print(J)\n",
    "#         print(np.argmax(J, axis=0))\n",
    "#         i_k = np.argmax(J, axis=0)[1]\n",
    "\n",
    "        e = -1 \n",
    "        i_k = -1 \n",
    "        for i in range(len(J)):\n",
    "            if (e < J[i][1]):\n",
    "                i_k = J[i][0]\n",
    "                e = J[i][1]\n",
    "#         error_reduction = 0\n",
    "#         best_index = -1\n",
    "#         for i in J:\n",
    "#             if (error_reduction < i[1]):\n",
    "#                 best_index = i[0]\n",
    "#                 error_reduction = i[1]\n",
    "        \n",
    "        # Add basis function index to selected and remove from candidates \n",
    "        selected.append(i_k)\n",
    "        candidates.remove(i_k)\n",
    "#         print(i_k,'i')\n",
    "        # Construct Phi(k) \n",
    "#         phi = np.empty(x_train.size,1)\n",
    "        phi = np.empty((len(x_train), 1))\n",
    "        for i in range(len(x_train)):\n",
    "            phi[i] = gaussian_kernel(x_train[selected[-1]],x_train[i],theta) # Use the most recently added basis function index \n",
    "        \n",
    "        if k > 1:\n",
    "            Phi = np.hstack([Phi, phi]) \n",
    "        else:\n",
    "            Phi = phi\n",
    "        \n",
    "        # Use SVD to estimate weights \n",
    "        u, s, vh = np.linalg.svd(Phi)\n",
    "    \n",
    "        dummy = np.zeros( (len(x_train) - (len(s)), (len(s))) )\n",
    "        sigma = np.vstack([np.diag(s), dummy])\n",
    "        \n",
    "        # In this case we disregard the + lambda factor \n",
    "        intermediate = np.linalg.inv(np.dot(sigma.T, sigma)) \n",
    "        w = np.dot(vh.T, np.dot(intermediate, np.dot(sigma.T, np.dot(u.T, y_train))))\n",
    "        \n",
    "        preds = np.dot(Phi, w)\n",
    "        \n",
    "        # Update residual \n",
    "        r = y_train - preds\n",
    "        \n",
    "        # Compute MDL loss\n",
    "        mdl = (N/2)*math.log(np.linalg.norm(r, ord=2)) + k/2*math.log(N)\n",
    "\n",
    "        # Check for stop condition \n",
    "        if mdl < prev_mdl:\n",
    "            prev_mdl = mdl\n",
    "            opt_k = k \n",
    "            opt_w = w\n",
    "        elif mdl > prev_mdl:\n",
    "#             print([opt_k, mdl, prev_mdl])\n",
    "            break \n",
    "    \n",
    "    # Computing Test RMSE results\n",
    "    selected = selected[:-1]\n",
    "    phi_t = np.empty((len(x_total), len(selected)))\n",
    "    \n",
    "    for i in range(len(x_total)):\n",
    "        for sel_idx in range(len(selected)):\n",
    "            phi_t[i][sel_idx] = gaussian_kernel(x_total[selected[sel_idx]],x_total[i],theta) # Use the most recently added basis function index \n",
    "\n",
    "    # Use SVD to estimate weights \n",
    "    u, s, vh = np.linalg.svd(phi_t)\n",
    "\n",
    "    dummy = np.zeros( (len(x_total) - (len(s)), (len(s))) )\n",
    "    sigma = np.vstack([np.diag(s), dummy])\n",
    "\n",
    "    # In this case we disregard the + lambda factor \n",
    "    intermediate = np.linalg.inv(np.dot(sigma.T, sigma)) \n",
    "    w = np.dot(vh.T, np.dot(intermediate, np.dot(sigma.T, np.dot(u.T, y_total))))\n",
    "\n",
    "    phi_test = np.empty((len(x_test), len(selected)))\n",
    "    \n",
    "    for i in range(len(x_test)):\n",
    "        for sel_idx in range(len(selected)):\n",
    "            phi_test[i][sel_idx] = gaussian_kernel(x_test[selected[sel_idx]],x_test[i],theta) # Use the most recently added basis function index \n",
    "\n",
    "    preds = np.dot(phi_test, opt_w) # 1.369\n",
    "\n",
    "    rmse_test = rmse(preds, y_test)\n",
    "    return [opt_k, rmse_test]"
   ]
  },
  {
   "cell_type": "code",
   "execution_count": 62,
   "metadata": {
    "colab": {},
    "colab_type": "code",
    "id": "OTSyCyeUt0r_"
   },
   "outputs": [
    {
     "name": "stdout",
     "output_type": "stream",
     "text": [
      "For theta = 0.01\n",
      "Sparsity = 12, with Test RMSE of 1.2453889005164207\n",
      "For theta = 0.1\n",
      "Sparsity = 40, with Test RMSE of 2.1328613873130813\n",
      "For theta = 1\n",
      "Sparsity = 11, with Test RMSE of 4.7421713851324645\n"
     ]
    }
   ],
   "source": [
    "theta = [0.01,0.1,1]\n",
    "k_range = 200\n",
    "for theta_val in theta:\n",
    "    print('For theta = '+str(theta_val))\n",
    "    sparsity, rmse_test = greedy_regression(x_train,y_train,x_valid,y_valid,theta_val,k_range)\n",
    "    print('Sparsity = ' + str(sparsity) +', with Test RMSE of '+ str(rmse_test))"
   ]
  },
  {
   "cell_type": "code",
   "execution_count": 0,
   "metadata": {
    "colab": {},
    "colab_type": "code",
    "id": "fi1kEBhg56vr"
   },
   "outputs": [],
   "source": []
  }
 ],
 "metadata": {
  "colab": {
   "collapsed_sections": [],
   "name": "A2.ipynb",
   "provenance": []
  },
  "kernelspec": {
   "display_name": "Python 3.7.4 64-bit ('base': conda)",
   "language": "python",
   "name": "python37464bitbasecondaf8325423b44c4a6baa647795c44880d5"
  },
  "language_info": {
   "codemirror_mode": {
    "name": "ipython",
    "version": 3
   },
   "file_extension": ".py",
   "mimetype": "text/x-python",
   "name": "python",
   "nbconvert_exporter": "python",
   "pygments_lexer": "ipython3",
   "version": "3.7.4"
  }
 },
 "nbformat": 4,
 "nbformat_minor": 1
}
